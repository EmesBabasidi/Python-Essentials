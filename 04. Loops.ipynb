{
 "cells": [
  {
   "cell_type": "markdown",
   "id": "05c31a4c",
   "metadata": {},
   "source": [
    "A loop executes a block of code repeatedly until the condition of the loop statement is\tno longer valid."
   ]
  },
  {
   "cell_type": "markdown",
   "id": "dc3b8767",
   "metadata": {},
   "source": [
    "# For Loop"
   ]
  },
  {
   "cell_type": "markdown",
   "id": "f04e0bd4",
   "metadata": {},
   "source": [
    "A for loop can only be looped through an iterable (an iterable refers to anything that can be looped over, such a string, list or tuple) . The syntax for looping through an iterable is as follows:<br>\n",
    " for a in iterable:<br>\n",
    " print (a)<br>\n",
    " Example:"
   ]
  },
  {
   "cell_type": "code",
   "execution_count": 6,
   "id": "b88848de",
   "metadata": {},
   "outputs": [
    {
     "name": "stdout",
     "output_type": "stream",
     "text": [
      "A\n",
      "l\n",
      "i\n",
      "y\n",
      "u\n"
     ]
    }
   ],
   "source": [
    "name = \"Aliyu\"\n",
    "for i in name:\n",
    "    print(i)\n",
    "# i is the loop variable which can have any name.\n",
    "# Try for list and tuple"
   ]
  },
  {
   "cell_type": "code",
   "execution_count": 7,
   "id": "2ab5565f",
   "metadata": {},
   "outputs": [
    {
     "name": "stdout",
     "output_type": "stream",
     "text": [
      "Mathematics\n",
      "Biology\n",
      "Physics\n",
      "Computer Science\n",
      "Chemistry\n",
      "Geography\n"
     ]
    }
   ],
   "source": [
    "courses = [\"Mathematics\", \"Biology\", \"Physics\", \"Computer Science\", \"Chemistry\", \"Geography\"]\n",
    "\n",
    "for sub in courses:\n",
    "    print(sub)"
   ]
  },
  {
   "cell_type": "markdown",
   "id": "10f669e6",
   "metadata": {},
   "source": [
    "We can use **enumerate()** to display the index of each element of the list. <br>\n",
    "Example:"
   ]
  },
  {
   "cell_type": "code",
   "execution_count": 8,
   "id": "900229bf",
   "metadata": {},
   "outputs": [
    {
     "name": "stdout",
     "output_type": "stream",
     "text": [
      "0 Mathematics\n",
      "1 Biology\n",
      "2 Physics\n",
      "3 Computer Science\n",
      "4 Chemistry\n",
      "5 Geography\n"
     ]
    }
   ],
   "source": [
    "for index,sub in enumerate(courses):\n",
    "    print(index, sub)\n"
   ]
  },
  {
   "cell_type": "markdown",
   "id": "8e33f5c6",
   "metadata": {},
   "source": [
    "# break and continue"
   ]
  },
  {
   "cell_type": "markdown",
   "id": "3439e143",
   "metadata": {},
   "source": [
    "### break keyword will completely terminate the execution of a loop. <br>\n",
    "Example: We want to search a given item from a list, and once we found that item we do't need to continue the search. Let's say in our list of courses we want to find \"Chemistry\", the code wil be:"
   ]
  },
  {
   "cell_type": "code",
   "execution_count": 9,
   "id": "69f5ddb7",
   "metadata": {},
   "outputs": [
    {
     "name": "stdout",
     "output_type": "stream",
     "text": [
      "Mathematics\n",
      "Biology\n",
      "Physics\n",
      "Computer Science\n",
      "Found!\n"
     ]
    }
   ],
   "source": [
    "for sub in courses:\n",
    "    if sub == \"Chemistry\":\n",
    "        print(\"Found!\")\n",
    "        break\n",
    "    print(sub)"
   ]
  },
  {
   "cell_type": "markdown",
   "id": "9174e968",
   "metadata": {},
   "source": [
    "### continue key word will only skip an iteration. <br>\n",
    "Still using our search example, we might want to search for more than one item. So we continue searching till the end.\n",
    "<br> Example"
   ]
  },
  {
   "cell_type": "code",
   "execution_count": 10,
   "id": "a9c3ada4",
   "metadata": {},
   "outputs": [
    {
     "name": "stdout",
     "output_type": "stream",
     "text": [
      "Mathematics\n",
      "Found!\n",
      "Physics\n",
      "Found!\n",
      "Found!\n",
      "Geography\n"
     ]
    }
   ],
   "source": [
    "for sub in courses:\n",
    "    if sub == \"Biology\":\n",
    "        print(\"Found!\")\n",
    "        continue\n",
    "    if sub == \"Computer Science\":\n",
    "        print(\"Found!\")\n",
    "        continue\n",
    "    if sub == \"Chemistry\":\n",
    "        print(\"Found!\")\n",
    "        continue\n",
    "    print(sub)"
   ]
  },
  {
   "cell_type": "markdown",
   "id": "f6ce0ad2",
   "metadata": {},
   "source": [
    "# range()<br>\n",
    "The range() function generates a list of numbers and has the syntax range(start, end, step).<br>\n",
    "The function recieves at least one arguement which is end, the number passed into the function will not be included for example if 9 is passed, the iteration will stop at 8.\n",
    "If start is not given, the numbers generated will start from zero.<br> \n",
    "If step is not specified, a default of 1 is set. <br>\n",
    "Example:"
   ]
  },
  {
   "cell_type": "code",
   "execution_count": 11,
   "id": "94f249d3",
   "metadata": {},
   "outputs": [
    {
     "name": "stdout",
     "output_type": "stream",
     "text": [
      "0, 1, 2, 3, 4, 5, 6, 7, 8, 9, "
     ]
    }
   ],
   "source": [
    "for i in range(10):\n",
    "    print(i, end = \", \")"
   ]
  },
  {
   "cell_type": "code",
   "execution_count": 12,
   "id": "c653fd43",
   "metadata": {},
   "outputs": [
    {
     "name": "stdout",
     "output_type": "stream",
     "text": [
      "10, 11, 12, 13, 14, 15, 16, 17, 18, 19, 20, 21, 22, 23, 24, 25, 26, 27, 28, 29, 30, 31, 32, 33, 34, 35, 36, 37, 38, 39, 40, 41, 42, 43, 44, 45, 46, 47, 48, 49, 50, 51, 52, 53, 54, 55, 56, 57, 58, 59, 60, 61, 62, 63, 64, 65, 66, 67, 68, 69, 70, 71, 72, 73, 74, 75, 76, 77, 78, 79, 80, 81, 82, 83, 84, 85, 86, 87, 88, 89, 90, 91, 92, 93, 94, 95, 96, 97, 98, 99, "
     ]
    }
   ],
   "source": [
    "for i in range(10, 100):\n",
    "    print(i, end = \", \")"
   ]
  },
  {
   "cell_type": "code",
   "execution_count": 13,
   "id": "d0d80479",
   "metadata": {},
   "outputs": [
    {
     "name": "stdout",
     "output_type": "stream",
     "text": [
      "10, 15, 20, 25, 30, 35, 40, 45, 50, 55, 60, 65, 70, 75, 80, 85, 90, 95, 100, "
     ]
    }
   ],
   "source": [
    "for i in range(10,  101, 5):\n",
    "    print(i, end = \", \")"
   ]
  },
  {
   "cell_type": "markdown",
   "id": "d0537a96",
   "metadata": {},
   "source": [
    "# Nested For Loops\n",
    "A nested for loop is a for loop within a for loop, it can be one or more.<br>\n",
    "Example:"
   ]
  },
  {
   "cell_type": "code",
   "execution_count": 14,
   "id": "7bae0f55",
   "metadata": {},
   "outputs": [
    {
     "name": "stdout",
     "output_type": "stream",
     "text": [
      "* * * * * * * * * * *\n",
      "* * * * * * * * * * *\n",
      "* * * * * * * * * * *\n",
      "* * * * * * * * * * *\n",
      "* * * * * * * * * * *\n",
      "* * * * * * * * * * *\n",
      "* * * * * * * * * * *\n",
      "* * * * * * * * * * *\n",
      "* * * * * * * * * * *\n",
      "* * * * * * * * * * *\n"
     ]
    }
   ],
   "source": [
    "for i in range(1, 11):\n",
    "    for i in range(1, 11):\n",
    "        print(\"*\", end = \" \")\n",
    "    print(\"*\")"
   ]
  },
  {
   "cell_type": "markdown",
   "id": "8964b284",
   "metadata": {},
   "source": [
    "# While loop\n",
    "A while loop repeatedly executes instructions inside the loop while a certain condition remains valid(True). The structure of a while statement is as follows: <br>\n",
    "while condition is true: <br>\n",
    "do this task <br>\n",
    "\n",
    "Mostly when using a while loop, we need to first declare a variable to function as a loop counter, otherwise the loop will continue infinitly.<br>\n",
    "Example:"
   ]
  },
  {
   "cell_type": "code",
   "execution_count": 15,
   "id": "4bb4f099",
   "metadata": {},
   "outputs": [
    {
     "name": "stdout",
     "output_type": "stream",
     "text": [
      "Number:  1\n",
      "Number:  2\n",
      "Number:  3\n",
      "Number:  4\n",
      "Number:  5\n",
      "Number:  6\n",
      "Number:  7\n",
      "Number:  8\n",
      "Number:  9\n",
      "Number:  10\n"
     ]
    }
   ],
   "source": [
    "int = 1\n",
    "while int <= 10: \n",
    "    print(\"Number: \", int)\n",
    "    int = int + 1"
   ]
  },
  {
   "cell_type": "markdown",
   "id": "65140ede",
   "metadata": {},
   "source": [
    "# Application of while loop in secuirity system"
   ]
  },
  {
   "cell_type": "code",
   "execution_count": 22,
   "id": "7480ad61",
   "metadata": {},
   "outputs": [
    {
     "name": "stdout",
     "output_type": "stream",
     "text": [
      "Enter your password please! \n",
      "fgdzcsdx\n",
      "Incorrect!!!  You have  4  attempt(s) left\n",
      "Enter your password please! \n",
      "kkhgf\n",
      "Incorrect!!!  You have  3  attempt(s) left\n",
      "Enter your password please! \n",
      "gfx\n",
      "Incorrect!!!  You have  2  attempt(s) left\n",
      "Enter your password please! \n",
      "khvc\n",
      "Incorrect!!!  You have  1  attempt(s) left\n",
      "Enter your password please! \n",
      "hkg\n",
      "Incorrect!!! You have exceeded the maximum number of attempts.\n"
     ]
    }
   ],
   "source": [
    "password = \"Literal75%\"  # Correct password\n",
    "trial = 0  # Initialize the trial counter\n",
    "Password = input(\"Enter your password please! \\n\")  # Prompt the user to enter the password\n",
    "\n",
    "# Loop until the user enters the correct password or exceeds the trial limit\n",
    "while Password != password:\n",
    "    trial += 1  # Increment the trial counter\n",
    "    if trial < 5:\n",
    "        print(\"Incorrect!!!\", \" You have \", 5 - trial, \" attempt(s) left\")\n",
    "        Password = input(\"Enter your password please! \\n\")  # Prompt the user again\n",
    "    else:\n",
    "        print(\"Incorrect!!! You have exceeded the maximum number of attempts.\")\n",
    "        break  # Exit the loop if the trial limit is reached\n",
    "\n",
    "if Password == password:\n",
    "    print(\"Access granted!\")\n"
   ]
  },
  {
   "cell_type": "code",
   "execution_count": null,
   "id": "04d2694a",
   "metadata": {},
   "outputs": [],
   "source": []
  }
 ],
 "metadata": {
  "kernelspec": {
   "display_name": "Python 3 (ipykernel)",
   "language": "python",
   "name": "python3"
  },
  "language_info": {
   "codemirror_mode": {
    "name": "ipython",
    "version": 3
   },
   "file_extension": ".py",
   "mimetype": "text/x-python",
   "name": "python",
   "nbconvert_exporter": "python",
   "pygments_lexer": "ipython3",
   "version": "3.11.5"
  }
 },
 "nbformat": 4,
 "nbformat_minor": 5
}
