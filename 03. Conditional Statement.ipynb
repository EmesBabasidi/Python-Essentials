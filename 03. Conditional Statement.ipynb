{
 "cells": [
  {
   "cell_type": "markdown",
   "id": "029789c5",
   "metadata": {},
   "source": [
    "# If Statement"
   ]
  },
  {
   "cell_type": "markdown",
   "id": "7a37ddbc",
   "metadata": {},
   "source": [
    "Remember booleans? <br>\n",
    "They are data types that is either True or False."
   ]
  },
  {
   "cell_type": "code",
   "execution_count": 2,
   "id": "cd29b629",
   "metadata": {},
   "outputs": [
    {
     "data": {
      "text/plain": [
       "bool"
      ]
     },
     "execution_count": 2,
     "metadata": {},
     "output_type": "execute_result"
    }
   ],
   "source": [
    "example = True\n",
    "type(example)"
   ]
  },
  {
   "cell_type": "markdown",
   "id": "43da4833",
   "metadata": {},
   "source": [
    "Conditional statements work with boolean values. Conditional statement is a block of code that is executed when a given condition/expression is True. <br>\n",
    "For example:"
   ]
  },
  {
   "cell_type": "code",
   "execution_count": 3,
   "id": "21a6ce4d",
   "metadata": {},
   "outputs": [
    {
     "name": "stdout",
     "output_type": "stream",
     "text": [
      "The condition is true\n"
     ]
    }
   ],
   "source": [
    "if True:\n",
    "    print(\"The condition is true\")\n",
    "# Try using False instead of True to see what will be the result."
   ]
  },
  {
   "cell_type": "markdown",
   "id": "117f6414",
   "metadata": {},
   "source": [
    "Normally conditionals are not hard coded, rather an expression is used.<br>\n",
    "Example:"
   ]
  },
  {
   "cell_type": "code",
   "execution_count": 4,
   "id": "577ab834",
   "metadata": {},
   "outputs": [
    {
     "name": "stdout",
     "output_type": "stream",
     "text": [
      "correct\n"
     ]
    }
   ],
   "source": [
    "x = 7\n",
    "y = 3\n",
    "if y != x:\n",
    "    print(\"correct\")"
   ]
  },
  {
   "cell_type": "markdown",
   "id": "21ec418b",
   "metadata": {},
   "source": [
    "From the code above if we set the condition to be **if y == x:** nothing will be printed because the condition is false meaning that the block of code will not be executed.<br> \n",
    "For senerios like this an else statement is used, Example:"
   ]
  },
  {
   "cell_type": "code",
   "execution_count": 4,
   "id": "1f8099f2",
   "metadata": {},
   "outputs": [
    {
     "name": "stdout",
     "output_type": "stream",
     "text": [
      "incorrect\n"
     ]
    }
   ],
   "source": [
    "if y == x:\n",
    "    print(\"correct\")\n",
    "else:\n",
    "    print(\"incorrect\")"
   ]
  },
  {
   "cell_type": "markdown",
   "id": "5c6899be",
   "metadata": {},
   "source": [
    "# else statement"
   ]
  },
  {
   "cell_type": "markdown",
   "id": "10c5c975",
   "metadata": {},
   "source": [
    "The **else block** is executed whenever the **if block** is False."
   ]
  },
  {
   "cell_type": "markdown",
   "id": "891cfa31",
   "metadata": {},
   "source": [
    "we can use strings  or lists as our conditional.<br>\n",
    "Example:"
   ]
  },
  {
   "cell_type": "code",
   "execution_count": 5,
   "id": "c089e187",
   "metadata": {},
   "outputs": [
    {
     "name": "stdout",
     "output_type": "stream",
     "text": [
      "Valid\n"
     ]
    }
   ],
   "source": [
    "language = \"Python\"\n",
    "if language == \"Python\":\n",
    "    print(\"Valid\")\n",
    "else:\n",
    "    print(\"Invalid\")"
   ]
  },
  {
   "cell_type": "code",
   "execution_count": 6,
   "id": "dd6ff08f",
   "metadata": {},
   "outputs": [
    {
     "name": "stdout",
     "output_type": "stream",
     "text": [
      "Found\n"
     ]
    }
   ],
   "source": [
    "if (\"P\" in language):\n",
    "    print(\"Found\")\n",
    "else:\n",
    "    print(\"Not Found\")"
   ]
  },
  {
   "cell_type": "markdown",
   "id": "595b2f77",
   "metadata": {},
   "source": [
    "# Using List and Logical statement"
   ]
  },
  {
   "cell_type": "code",
   "execution_count": 7,
   "id": "e5fc05cc",
   "metadata": {},
   "outputs": [
    {
     "name": "stdout",
     "output_type": "stream",
     "text": [
      "Found\n"
     ]
    }
   ],
   "source": [
    "languages = [\"Python\",\"C++\",\"R\",\"HTML\",\"CSS\"]\n",
    "if (\"Python\" or \"C++\") in languages:\n",
    "    print(\"Found\")\n",
    "else:\n",
    "    print(\"Not Found\")"
   ]
  },
  {
   "cell_type": "markdown",
   "id": "058d3864",
   "metadata": {},
   "source": [
    "# Using Methods as conditions"
   ]
  },
  {
   "cell_type": "code",
   "execution_count": 8,
   "id": "46c2f603",
   "metadata": {},
   "outputs": [
    {
     "name": "stdout",
     "output_type": "stream",
     "text": [
      "Is alpha numeric\n"
     ]
    }
   ],
   "source": [
    "if language.isalnum():\n",
    "    print(\"Is alpha numeric\")\n",
    "else:\n",
    "    print(\"Is not alpha numeric\")"
   ]
  },
  {
   "cell_type": "markdown",
   "id": "a6411f8b",
   "metadata": {},
   "source": [
    "# The \"elif\" block."
   ]
  },
  {
   "cell_type": "markdown",
   "id": "46675149",
   "metadata": {},
   "source": [
    "We can check multiple conditions by using **elif**, the **elif** block is executed when the preceeding **if** or **elif** block is False. <br>\n",
    "Example:"
   ]
  },
  {
   "cell_type": "code",
   "execution_count": 9,
   "id": "abaa0d78",
   "metadata": {},
   "outputs": [
    {
     "name": "stdout",
     "output_type": "stream",
     "text": [
      "Yes, YOU!!!\n"
     ]
    }
   ],
   "source": [
    "name = \"Mutawakkil\"\n",
    "if name == \"Muhsin\":\n",
    "    print(\"Not You!\")\n",
    "elif name == \"Mahbub\":\n",
    "    print(\"Not You Either!\")\n",
    "elif name == \"Mutawakkil\":\n",
    "    print(\"Yes, YOU!!!\")\n",
    "else:\n",
    "    print(\"Absent\")"
   ]
  },
  {
   "cell_type": "markdown",
   "id": "820b71b4",
   "metadata": {},
   "source": [
    "# Inline if\n",
    " An\tinline if statement is a simpler form of an if statement and is more convenient\tif you only need to\tperform\ta simple task. The syntax is: <br>\n",
    " **do Task A if condition is true else do Task B** <br>\n",
    " For example:"
   ]
  },
  {
   "cell_type": "code",
   "execution_count": 6,
   "id": "1f02158b",
   "metadata": {},
   "outputs": [
    {
     "name": "stdout",
     "output_type": "stream",
     "text": [
      "Enter a number: 10\n",
      "12\n"
     ]
    }
   ],
   "source": [
    "myInt = int(input(\"Enter a number: \"))\n",
    "num1 = 12 if myInt==10 else 13\n",
    "print(num1)"
   ]
  },
  {
   "cell_type": "markdown",
   "id": "f175c162",
   "metadata": {},
   "source": [
    "Another example:"
   ]
  },
  {
   "cell_type": "code",
   "execution_count": 8,
   "id": "fbb34fa1",
   "metadata": {},
   "outputs": [
    {
     "name": "stdout",
     "output_type": "stream",
     "text": [
      "This is task A\n"
     ]
    }
   ],
   "source": [
    "print(\"This is task A\" if myInt == 10 else \"This is task B\")"
   ]
  },
  {
   "cell_type": "markdown",
   "id": "3d1ee08b",
   "metadata": {},
   "source": [
    "# Nested if.\n",
    "It is an obvious practice to ask a next question depending on a given answer. For example:"
   ]
  },
  {
   "cell_type": "code",
   "execution_count": 14,
   "id": "c3bd648c",
   "metadata": {},
   "outputs": [
    {
     "name": "stdout",
     "output_type": "stream",
     "text": [
      "How old are you? 23\n",
      "What is your level of study? Undergraduate\n",
      "What is your cgpa? 7\n",
      "Sorry, you did not qualify\n"
     ]
    }
   ],
   "source": [
    "age = int(input(\"How old are you? \"))\n",
    "if age >= 20 and age <= 30:\n",
    "    level = input(\"What is your level of study? \")\n",
    "    if level == \"Undergraduate\":\n",
    "        cgpa = float(input(\"What is your cgpa? \"))\n",
    "        if cgpa >= 3.5 and cgpa <=5.0:\n",
    "            print(\"Qualified\")\n",
    "        else:\n",
    "            print(\"Sorry, you did not qualify\")\n",
    "    else:\n",
    "        print(\"Sorry, you did not qualify\")\n",
    "else:\n",
    "    print(\"Sorry, you did not qualify\")\n"
   ]
  },
  {
   "cell_type": "markdown",
   "id": "b82030e8",
   "metadata": {},
   "source": [
    "### Values that evaluate to False in python:\n",
    "1. False\n",
    "2. None\n",
    "3. Zero\n",
    "4. empty sequence, E.g: \"\", {}, [] \n",
    "5. empty mapping (dictionary)"
   ]
  },
  {
   "cell_type": "code",
   "execution_count": null,
   "id": "910aea3f",
   "metadata": {},
   "outputs": [],
   "source": []
  }
 ],
 "metadata": {
  "kernelspec": {
   "display_name": "Python 3 (ipykernel)",
   "language": "python",
   "name": "python3"
  },
  "language_info": {
   "codemirror_mode": {
    "name": "ipython",
    "version": 3
   },
   "file_extension": ".py",
   "mimetype": "text/x-python",
   "name": "python",
   "nbconvert_exporter": "python",
   "pygments_lexer": "ipython3",
   "version": "3.11.5"
  }
 },
 "nbformat": 4,
 "nbformat_minor": 5
}
